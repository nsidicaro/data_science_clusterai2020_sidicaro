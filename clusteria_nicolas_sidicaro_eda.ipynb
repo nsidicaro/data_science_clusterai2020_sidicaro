{
 "cells": [
  {
   "cell_type": "markdown",
   "metadata": {},
   "source": [
    "# Trabajo final Cluster AI - EDA \n",
    "\n",
    "#### Grupo 4 (Oyentes):\n",
    "##### Julia Martinuzzi\n",
    "##### Melina Rivero\n",
    "##### Nicolás Sidicaro\n",
    "\n",
    "El  presente análisis exhibe una proyección de delitos en base a los datos del 2016 a 2019 que se publican en el portal de datos del Gobierno de la Ciudad de Buenos Aires. A su vez, a fin de incorporar una dimensión que permita enriquecer dicha proyección se decidio incorporar una clasificación de los delitos por radio censal.Esto nos permitó obtener un mayor nivel de precisión sobre el análisis realizado."
   ]
  },
  {
   "cell_type": "markdown",
   "metadata": {},
   "source": [
    "### Análisis EDA"
   ]
  },
  {
   "cell_type": "markdown",
   "metadata": {},
   "source": [
    " #### Primero importamos las librerias que vamos a utilizar"
   ]
  },
  {
   "cell_type": "code",
   "execution_count": 8,
   "metadata": {},
   "outputs": [],
   "source": [
    "import numpy as np\n",
    "import matplotlib.pyplot as plt\n",
    "import pandas as pd\n",
    "import seaborn as sns\n",
    "from sklearn.model_selection import train_test_split\n",
    "from sklearn.linear_model import LinearRegression\n",
    "from sklearn.metrics import r2_score, mean_squared_error, mean_absolute_error\n",
    "from sklearn import metrics\n",
    "from sklearn import preprocessing\n",
    "from sklearn.preprocessing import StandardScaler\n",
    "from sklearn.cluster import KMeans\n",
    "from  sklearn.metrics import silhouette_score"
   ]
  },
  {
   "cell_type": "markdown",
   "metadata": {},
   "source": [
    "#### Segundo importamos los datos a analizar"
   ]
  },
  {
   "cell_type": "code",
   "execution_count": 9,
   "metadata": {},
   "outputs": [],
   "source": [
    "delitos_2016 = pd.read_csv (\"delitos_2016.csv\")\n",
    "delitos_2017 = pd.read_csv (\"delitos_2017.csv\")\n",
    "delitos_2018 = pd.read_csv (\"delitos_2018.csv\")\n",
    "delitos_2019 = pd.read_csv (\"delitos_2019.csv\")\n"
   ]
  },
  {
   "cell_type": "markdown",
   "metadata": {},
   "source": [
    "#### Con los dataset ya importados vamos a proceder a explorarlos para determinar si necesitamos realizar algún cambio antes de realizar una unificación de los mismos. \n",
    "#### Para llevar a cabo esta primera exploración de los dataset utilizaremos la libreria numpy. "
   ]
  },
  {
   "cell_type": "markdown",
   "metadata": {},
   "source": [
    "#### Vamos a conocer la cantidad de filas y la cantidad de columnas que tienen nuestros dataset."
   ]
  },
  {
   "cell_type": "code",
   "execution_count": 10,
   "metadata": {},
   "outputs": [
    {
     "name": "stdout",
     "output_type": "stream",
     "text": [
      "El dataset de delitos 2016 126583 filas y 10 columnas\n",
      "El dataset de delitos 2017 120564 filas y 10 columnas\n",
      "El dataset de delitos 2018 123733 filas y 10 columnas\n",
      "El dataset de delitos 2019 117661 filas y 10 columnas\n"
     ]
    }
   ],
   "source": [
    "print(\"El dataset de delitos 2016 \"+ str(np.shape(delitos_2016)[0]) + \" filas y \" + str(np.shape(delitos_2016)[1]) + \" columnas\")\n",
    "print(\"El dataset de delitos 2017 \"+ str(np.shape(delitos_2017)[0]) + \" filas y \" + str(np.shape(delitos_2017)[1]) + \" columnas\")\n",
    "print(\"El dataset de delitos 2018 \"+ str(np.shape(delitos_2018)[0]) + \" filas y \" + str(np.shape(delitos_2018)[1]) + \" columnas\")\n",
    "print(\"El dataset de delitos 2019 \"+ str(np.shape(delitos_2019)[0]) + \" filas y \" + str(np.shape(delitos_2019)[1]) + \" columnas\")"
   ]
  },
  {
   "cell_type": "markdown",
   "metadata": {},
   "source": [
    "#### También vamos a necesitar conocer los nombres de las 10 columnas de cada uno de los dataset.  "
   ]
  },
  {
   "cell_type": "code",
   "execution_count": 11,
   "metadata": {},
   "outputs": [
    {
     "data": {
      "text/plain": [
       "Index(['id', 'fecha', 'franja_horaria', 'tipo_delito', 'subtipo_delito',\n",
       "       'cantidad_registrada', 'comuna', 'barrio', 'lat', 'long'],\n",
       "      dtype='object')"
      ]
     },
     "execution_count": 11,
     "metadata": {},
     "output_type": "execute_result"
    }
   ],
   "source": [
    "delitos_2016.columns"
   ]
  },
  {
   "cell_type": "code",
   "execution_count": 5,
   "metadata": {
    "scrolled": true
   },
   "outputs": [
    {
     "data": {
      "text/plain": [
       "Index(['id', 'fecha', 'franja_horaria', 'tipo_delito', 'subtipo_delito',\n",
       "       'cantidad_registrada', 'comuna', 'barrio', 'lat', 'long'],\n",
       "      dtype='object')"
      ]
     },
     "execution_count": 5,
     "metadata": {},
     "output_type": "execute_result"
    }
   ],
   "source": [
    "delitos_2017.columns"
   ]
  },
  {
   "cell_type": "code",
   "execution_count": 6,
   "metadata": {
    "scrolled": true
   },
   "outputs": [
    {
     "data": {
      "text/plain": [
       "Index(['id', 'fecha', 'franja_horaria', 'tipo_delito', 'subtipo_delito',\n",
       "       'cantidad_registrada', 'comuna', 'barrio', 'lat', 'long'],\n",
       "      dtype='object')"
      ]
     },
     "execution_count": 6,
     "metadata": {},
     "output_type": "execute_result"
    }
   ],
   "source": [
    "delitos_2018.columns"
   ]
  },
  {
   "cell_type": "code",
   "execution_count": 7,
   "metadata": {},
   "outputs": [
    {
     "data": {
      "text/plain": [
       "Index(['id', 'fecha', 'franja_horaria', 'tipo_delito', 'subtipo_delito',\n",
       "       'cantidad_registrada', 'comuna', 'barrio', 'lat', 'long'],\n",
       "      dtype='object')"
      ]
     },
     "execution_count": 7,
     "metadata": {},
     "output_type": "execute_result"
    }
   ],
   "source": [
    "delitos_2019.columns"
   ]
  },
  {
   "cell_type": "markdown",
   "metadata": {},
   "source": [
    "#### Ahora visualizamos las primeras filas de los datasets"
   ]
  },
  {
   "cell_type": "markdown",
   "metadata": {},
   "source": [
    "#### Delitos 2016"
   ]
  },
  {
   "cell_type": "code",
   "execution_count": 8,
   "metadata": {},
   "outputs": [
    {
     "data": {
      "text/html": [
       "<div>\n",
       "<style scoped>\n",
       "    .dataframe tbody tr th:only-of-type {\n",
       "        vertical-align: middle;\n",
       "    }\n",
       "\n",
       "    .dataframe tbody tr th {\n",
       "        vertical-align: top;\n",
       "    }\n",
       "\n",
       "    .dataframe thead th {\n",
       "        text-align: right;\n",
       "    }\n",
       "</style>\n",
       "<table border=\"1\" class=\"dataframe\">\n",
       "  <thead>\n",
       "    <tr style=\"text-align: right;\">\n",
       "      <th></th>\n",
       "      <th>id</th>\n",
       "      <th>fecha</th>\n",
       "      <th>franja_horaria</th>\n",
       "      <th>tipo_delito</th>\n",
       "      <th>subtipo_delito</th>\n",
       "      <th>cantidad_registrada</th>\n",
       "      <th>comuna</th>\n",
       "      <th>barrio</th>\n",
       "      <th>lat</th>\n",
       "      <th>long</th>\n",
       "    </tr>\n",
       "  </thead>\n",
       "  <tbody>\n",
       "    <tr>\n",
       "      <td>0</td>\n",
       "      <td>51585</td>\n",
       "      <td>2016-01-01</td>\n",
       "      <td>13</td>\n",
       "      <td>Robo (con violencia)</td>\n",
       "      <td>NaN</td>\n",
       "      <td>1.0</td>\n",
       "      <td>9.0</td>\n",
       "      <td>Parque Avellaneda</td>\n",
       "      <td>-34.648730</td>\n",
       "      <td>-58.468536</td>\n",
       "    </tr>\n",
       "    <tr>\n",
       "      <td>1</td>\n",
       "      <td>83256</td>\n",
       "      <td>2016-01-01</td>\n",
       "      <td>22</td>\n",
       "      <td>Robo (con violencia)</td>\n",
       "      <td>NaN</td>\n",
       "      <td>1.0</td>\n",
       "      <td>14.0</td>\n",
       "      <td>Palermo</td>\n",
       "      <td>-34.576925</td>\n",
       "      <td>-58.407400</td>\n",
       "    </tr>\n",
       "    <tr>\n",
       "      <td>2</td>\n",
       "      <td>117697</td>\n",
       "      <td>2016-01-01</td>\n",
       "      <td>1</td>\n",
       "      <td>Lesiones</td>\n",
       "      <td>Siniestro Vial</td>\n",
       "      <td>1.0</td>\n",
       "      <td>4.0</td>\n",
       "      <td>Parque Patricios</td>\n",
       "      <td>-34.645197</td>\n",
       "      <td>-58.401099</td>\n",
       "    </tr>\n",
       "    <tr>\n",
       "      <td>3</td>\n",
       "      <td>43088</td>\n",
       "      <td>2016-01-01</td>\n",
       "      <td>19</td>\n",
       "      <td>Hurto (sin violencia)</td>\n",
       "      <td>NaN</td>\n",
       "      <td>1.0</td>\n",
       "      <td>9.0</td>\n",
       "      <td>Parque Avellaneda</td>\n",
       "      <td>-34.655760</td>\n",
       "      <td>-58.478681</td>\n",
       "    </tr>\n",
       "    <tr>\n",
       "      <td>4</td>\n",
       "      <td>68588</td>\n",
       "      <td>2016-01-01</td>\n",
       "      <td>4</td>\n",
       "      <td>Robo (con violencia)</td>\n",
       "      <td>Robo Automotor</td>\n",
       "      <td>1.0</td>\n",
       "      <td>6.0</td>\n",
       "      <td>Caballito</td>\n",
       "      <td>-34.624128</td>\n",
       "      <td>-58.436826</td>\n",
       "    </tr>\n",
       "  </tbody>\n",
       "</table>\n",
       "</div>"
      ],
      "text/plain": [
       "       id       fecha franja_horaria            tipo_delito  subtipo_delito  \\\n",
       "0   51585  2016-01-01             13   Robo (con violencia)             NaN   \n",
       "1   83256  2016-01-01             22   Robo (con violencia)             NaN   \n",
       "2  117697  2016-01-01              1               Lesiones  Siniestro Vial   \n",
       "3   43088  2016-01-01             19  Hurto (sin violencia)             NaN   \n",
       "4   68588  2016-01-01              4   Robo (con violencia)  Robo Automotor   \n",
       "\n",
       "   cantidad_registrada  comuna             barrio        lat       long  \n",
       "0                  1.0     9.0  Parque Avellaneda -34.648730 -58.468536  \n",
       "1                  1.0    14.0            Palermo -34.576925 -58.407400  \n",
       "2                  1.0     4.0   Parque Patricios -34.645197 -58.401099  \n",
       "3                  1.0     9.0  Parque Avellaneda -34.655760 -58.478681  \n",
       "4                  1.0     6.0          Caballito -34.624128 -58.436826  "
      ]
     },
     "execution_count": 8,
     "metadata": {},
     "output_type": "execute_result"
    }
   ],
   "source": [
    "delitos_2016.head()"
   ]
  },
  {
   "cell_type": "markdown",
   "metadata": {},
   "source": [
    "#### Delitos 2017"
   ]
  },
  {
   "cell_type": "code",
   "execution_count": 9,
   "metadata": {},
   "outputs": [
    {
     "data": {
      "text/html": [
       "<div>\n",
       "<style scoped>\n",
       "    .dataframe tbody tr th:only-of-type {\n",
       "        vertical-align: middle;\n",
       "    }\n",
       "\n",
       "    .dataframe tbody tr th {\n",
       "        vertical-align: top;\n",
       "    }\n",
       "\n",
       "    .dataframe thead th {\n",
       "        text-align: right;\n",
       "    }\n",
       "</style>\n",
       "<table border=\"1\" class=\"dataframe\">\n",
       "  <thead>\n",
       "    <tr style=\"text-align: right;\">\n",
       "      <th></th>\n",
       "      <th>id</th>\n",
       "      <th>fecha</th>\n",
       "      <th>franja_horaria</th>\n",
       "      <th>tipo_delito</th>\n",
       "      <th>subtipo_delito</th>\n",
       "      <th>cantidad_registrada</th>\n",
       "      <th>comuna</th>\n",
       "      <th>barrio</th>\n",
       "      <th>lat</th>\n",
       "      <th>long</th>\n",
       "    </tr>\n",
       "  </thead>\n",
       "  <tbody>\n",
       "    <tr>\n",
       "      <td>0</td>\n",
       "      <td>178852</td>\n",
       "      <td>2017-01-01</td>\n",
       "      <td>12</td>\n",
       "      <td>Robo (con violencia)</td>\n",
       "      <td>NaN</td>\n",
       "      <td>1.0</td>\n",
       "      <td>6.0</td>\n",
       "      <td>Caballito</td>\n",
       "      <td>-34.621410</td>\n",
       "      <td>-58.438432</td>\n",
       "    </tr>\n",
       "    <tr>\n",
       "      <td>1</td>\n",
       "      <td>132140</td>\n",
       "      <td>2017-01-01</td>\n",
       "      <td>6</td>\n",
       "      <td>Hurto (sin violencia)</td>\n",
       "      <td>NaN</td>\n",
       "      <td>1.0</td>\n",
       "      <td>1.0</td>\n",
       "      <td>Monserrat</td>\n",
       "      <td>-34.615535</td>\n",
       "      <td>-58.370503</td>\n",
       "    </tr>\n",
       "    <tr>\n",
       "      <td>2</td>\n",
       "      <td>189963</td>\n",
       "      <td>2017-01-01</td>\n",
       "      <td>12</td>\n",
       "      <td>Robo (con violencia)</td>\n",
       "      <td>NaN</td>\n",
       "      <td>1.0</td>\n",
       "      <td>4.0</td>\n",
       "      <td>Parque Patricios</td>\n",
       "      <td>-34.645709</td>\n",
       "      <td>-58.401704</td>\n",
       "    </tr>\n",
       "    <tr>\n",
       "      <td>3</td>\n",
       "      <td>204446</td>\n",
       "      <td>2017-01-01</td>\n",
       "      <td>14</td>\n",
       "      <td>Robo (con violencia)</td>\n",
       "      <td>NaN</td>\n",
       "      <td>1.0</td>\n",
       "      <td>1.0</td>\n",
       "      <td>Constitución</td>\n",
       "      <td>-34.627859</td>\n",
       "      <td>-58.382804</td>\n",
       "    </tr>\n",
       "    <tr>\n",
       "      <td>4</td>\n",
       "      <td>178853</td>\n",
       "      <td>2017-01-01</td>\n",
       "      <td>16</td>\n",
       "      <td>Robo (con violencia)</td>\n",
       "      <td>NaN</td>\n",
       "      <td>1.0</td>\n",
       "      <td>14.0</td>\n",
       "      <td>Palermo</td>\n",
       "      <td>-34.567318</td>\n",
       "      <td>-58.438099</td>\n",
       "    </tr>\n",
       "  </tbody>\n",
       "</table>\n",
       "</div>"
      ],
      "text/plain": [
       "       id       fecha franja_horaria            tipo_delito subtipo_delito  \\\n",
       "0  178852  2017-01-01             12   Robo (con violencia)            NaN   \n",
       "1  132140  2017-01-01              6  Hurto (sin violencia)            NaN   \n",
       "2  189963  2017-01-01             12   Robo (con violencia)            NaN   \n",
       "3  204446  2017-01-01             14   Robo (con violencia)            NaN   \n",
       "4  178853  2017-01-01             16   Robo (con violencia)            NaN   \n",
       "\n",
       "   cantidad_registrada  comuna            barrio        lat       long  \n",
       "0                  1.0     6.0         Caballito -34.621410 -58.438432  \n",
       "1                  1.0     1.0         Monserrat -34.615535 -58.370503  \n",
       "2                  1.0     4.0  Parque Patricios -34.645709 -58.401704  \n",
       "3                  1.0     1.0      Constitución -34.627859 -58.382804  \n",
       "4                  1.0    14.0           Palermo -34.567318 -58.438099  "
      ]
     },
     "execution_count": 9,
     "metadata": {},
     "output_type": "execute_result"
    }
   ],
   "source": [
    "delitos_2017.head()"
   ]
  },
  {
   "cell_type": "markdown",
   "metadata": {},
   "source": [
    "#### Delitos 2018"
   ]
  },
  {
   "cell_type": "code",
   "execution_count": 10,
   "metadata": {},
   "outputs": [
    {
     "data": {
      "text/html": [
       "<div>\n",
       "<style scoped>\n",
       "    .dataframe tbody tr th:only-of-type {\n",
       "        vertical-align: middle;\n",
       "    }\n",
       "\n",
       "    .dataframe tbody tr th {\n",
       "        vertical-align: top;\n",
       "    }\n",
       "\n",
       "    .dataframe thead th {\n",
       "        text-align: right;\n",
       "    }\n",
       "</style>\n",
       "<table border=\"1\" class=\"dataframe\">\n",
       "  <thead>\n",
       "    <tr style=\"text-align: right;\">\n",
       "      <th></th>\n",
       "      <th>id</th>\n",
       "      <th>fecha</th>\n",
       "      <th>franja_horaria</th>\n",
       "      <th>tipo_delito</th>\n",
       "      <th>subtipo_delito</th>\n",
       "      <th>cantidad_registrada</th>\n",
       "      <th>comuna</th>\n",
       "      <th>barrio</th>\n",
       "      <th>lat</th>\n",
       "      <th>long</th>\n",
       "    </tr>\n",
       "  </thead>\n",
       "  <tbody>\n",
       "    <tr>\n",
       "      <td>0</td>\n",
       "      <td>269335</td>\n",
       "      <td>2018-01-01</td>\n",
       "      <td>23</td>\n",
       "      <td>Hurto (sin violencia)</td>\n",
       "      <td>NaN</td>\n",
       "      <td>1.0</td>\n",
       "      <td>10.0</td>\n",
       "      <td>Vélez Sársfield</td>\n",
       "      <td>-34.624523</td>\n",
       "      <td>-58.502294</td>\n",
       "    </tr>\n",
       "    <tr>\n",
       "      <td>1</td>\n",
       "      <td>248498</td>\n",
       "      <td>2018-01-01</td>\n",
       "      <td>20</td>\n",
       "      <td>Hurto (sin violencia)</td>\n",
       "      <td>Hurto Automotor</td>\n",
       "      <td>1.0</td>\n",
       "      <td>8.0</td>\n",
       "      <td>Villa Lugano</td>\n",
       "      <td>-34.669643</td>\n",
       "      <td>-58.464153</td>\n",
       "    </tr>\n",
       "    <tr>\n",
       "      <td>2</td>\n",
       "      <td>248172</td>\n",
       "      <td>2018-01-01</td>\n",
       "      <td>14</td>\n",
       "      <td>Hurto (sin violencia)</td>\n",
       "      <td>Hurto Automotor</td>\n",
       "      <td>1.0</td>\n",
       "      <td>8.0</td>\n",
       "      <td>Villa Lugano</td>\n",
       "      <td>-34.680992</td>\n",
       "      <td>-58.465303</td>\n",
       "    </tr>\n",
       "    <tr>\n",
       "      <td>3</td>\n",
       "      <td>301417</td>\n",
       "      <td>2018-01-01</td>\n",
       "      <td>11</td>\n",
       "      <td>Robo (con violencia)</td>\n",
       "      <td>NaN</td>\n",
       "      <td>1.0</td>\n",
       "      <td>13.0</td>\n",
       "      <td>Belgrano</td>\n",
       "      <td>-34.571114</td>\n",
       "      <td>-58.464845</td>\n",
       "    </tr>\n",
       "    <tr>\n",
       "      <td>4</td>\n",
       "      <td>272732</td>\n",
       "      <td>2018-01-01</td>\n",
       "      <td>22</td>\n",
       "      <td>Hurto (sin violencia)</td>\n",
       "      <td>NaN</td>\n",
       "      <td>1.0</td>\n",
       "      <td>4.0</td>\n",
       "      <td>Barracas</td>\n",
       "      <td>-34.646857</td>\n",
       "      <td>-58.380158</td>\n",
       "    </tr>\n",
       "  </tbody>\n",
       "</table>\n",
       "</div>"
      ],
      "text/plain": [
       "       id       fecha franja_horaria            tipo_delito   subtipo_delito  \\\n",
       "0  269335  2018-01-01             23  Hurto (sin violencia)              NaN   \n",
       "1  248498  2018-01-01             20  Hurto (sin violencia)  Hurto Automotor   \n",
       "2  248172  2018-01-01             14  Hurto (sin violencia)  Hurto Automotor   \n",
       "3  301417  2018-01-01             11   Robo (con violencia)              NaN   \n",
       "4  272732  2018-01-01             22  Hurto (sin violencia)              NaN   \n",
       "\n",
       "   cantidad_registrada  comuna           barrio        lat       long  \n",
       "0                  1.0    10.0  Vélez Sársfield -34.624523 -58.502294  \n",
       "1                  1.0     8.0     Villa Lugano -34.669643 -58.464153  \n",
       "2                  1.0     8.0     Villa Lugano -34.680992 -58.465303  \n",
       "3                  1.0    13.0         Belgrano -34.571114 -58.464845  \n",
       "4                  1.0     4.0         Barracas -34.646857 -58.380158  "
      ]
     },
     "execution_count": 10,
     "metadata": {},
     "output_type": "execute_result"
    }
   ],
   "source": [
    "delitos_2018.head()"
   ]
  },
  {
   "cell_type": "markdown",
   "metadata": {},
   "source": [
    "#### Delitos 2019"
   ]
  },
  {
   "cell_type": "code",
   "execution_count": 11,
   "metadata": {},
   "outputs": [
    {
     "data": {
      "text/html": [
       "<div>\n",
       "<style scoped>\n",
       "    .dataframe tbody tr th:only-of-type {\n",
       "        vertical-align: middle;\n",
       "    }\n",
       "\n",
       "    .dataframe tbody tr th {\n",
       "        vertical-align: top;\n",
       "    }\n",
       "\n",
       "    .dataframe thead th {\n",
       "        text-align: right;\n",
       "    }\n",
       "</style>\n",
       "<table border=\"1\" class=\"dataframe\">\n",
       "  <thead>\n",
       "    <tr style=\"text-align: right;\">\n",
       "      <th></th>\n",
       "      <th>id</th>\n",
       "      <th>fecha</th>\n",
       "      <th>franja_horaria</th>\n",
       "      <th>tipo_delito</th>\n",
       "      <th>subtipo_delito</th>\n",
       "      <th>cantidad_registrada</th>\n",
       "      <th>comuna</th>\n",
       "      <th>barrio</th>\n",
       "      <th>lat</th>\n",
       "      <th>long</th>\n",
       "    </tr>\n",
       "  </thead>\n",
       "  <tbody>\n",
       "    <tr>\n",
       "      <td>0</td>\n",
       "      <td>374556</td>\n",
       "      <td>2019-01-01</td>\n",
       "      <td>12</td>\n",
       "      <td>Lesiones</td>\n",
       "      <td>Siniestro Vial</td>\n",
       "      <td>1.0</td>\n",
       "      <td>4.0</td>\n",
       "      <td>Nueva Pompeya</td>\n",
       "      <td>-34.648387</td>\n",
       "      <td>-58.404748</td>\n",
       "    </tr>\n",
       "    <tr>\n",
       "      <td>1</td>\n",
       "      <td>426152</td>\n",
       "      <td>2019-01-01</td>\n",
       "      <td>6</td>\n",
       "      <td>Robo (con violencia)</td>\n",
       "      <td>NaN</td>\n",
       "      <td>1.0</td>\n",
       "      <td>9.0</td>\n",
       "      <td>Liniers</td>\n",
       "      <td>-34.649827</td>\n",
       "      <td>-58.513859</td>\n",
       "    </tr>\n",
       "    <tr>\n",
       "      <td>2</td>\n",
       "      <td>371604</td>\n",
       "      <td>2019-01-01</td>\n",
       "      <td>8</td>\n",
       "      <td>Lesiones</td>\n",
       "      <td>Siniestro Vial</td>\n",
       "      <td>1.0</td>\n",
       "      <td>15.0</td>\n",
       "      <td>Chacarita</td>\n",
       "      <td>-34.588108</td>\n",
       "      <td>-58.439392</td>\n",
       "    </tr>\n",
       "    <tr>\n",
       "      <td>3</td>\n",
       "      <td>425359</td>\n",
       "      <td>2019-01-01</td>\n",
       "      <td>16</td>\n",
       "      <td>Hurto (sin violencia)</td>\n",
       "      <td>Hurto Automotor</td>\n",
       "      <td>1.0</td>\n",
       "      <td>10.0</td>\n",
       "      <td>Floresta</td>\n",
       "      <td>-34.631877</td>\n",
       "      <td>-58.483975</td>\n",
       "    </tr>\n",
       "    <tr>\n",
       "      <td>4</td>\n",
       "      <td>437571</td>\n",
       "      <td>2019-01-01</td>\n",
       "      <td>2</td>\n",
       "      <td>Robo (con violencia)</td>\n",
       "      <td>Robo Automotor</td>\n",
       "      <td>1.0</td>\n",
       "      <td>4.0</td>\n",
       "      <td>Parque Patricios</td>\n",
       "      <td>-34.633161</td>\n",
       "      <td>-58.397123</td>\n",
       "    </tr>\n",
       "  </tbody>\n",
       "</table>\n",
       "</div>"
      ],
      "text/plain": [
       "       id       fecha franja_horaria            tipo_delito   subtipo_delito  \\\n",
       "0  374556  2019-01-01             12               Lesiones   Siniestro Vial   \n",
       "1  426152  2019-01-01              6   Robo (con violencia)              NaN   \n",
       "2  371604  2019-01-01              8               Lesiones   Siniestro Vial   \n",
       "3  425359  2019-01-01             16  Hurto (sin violencia)  Hurto Automotor   \n",
       "4  437571  2019-01-01              2   Robo (con violencia)   Robo Automotor   \n",
       "\n",
       "   cantidad_registrada  comuna            barrio        lat       long  \n",
       "0                  1.0     4.0     Nueva Pompeya -34.648387 -58.404748  \n",
       "1                  1.0     9.0           Liniers -34.649827 -58.513859  \n",
       "2                  1.0    15.0         Chacarita -34.588108 -58.439392  \n",
       "3                  1.0    10.0          Floresta -34.631877 -58.483975  \n",
       "4                  1.0     4.0  Parque Patricios -34.633161 -58.397123  "
      ]
     },
     "execution_count": 11,
     "metadata": {},
     "output_type": "execute_result"
    }
   ],
   "source": [
    "delitos_2019.head()"
   ]
  },
  {
   "cell_type": "markdown",
   "metadata": {},
   "source": [
    "#### De los resultados obtenidos, de la ejecución de los códigos anteriores, podemos determinar que no es necesario realizar ningún cambio para unir los dataset."
   ]
  },
  {
   "cell_type": "markdown",
   "metadata": {},
   "source": [
    "#### Para unir nuestros dataframe utilizamos, de la libreria pandas, la función de contatenar. Para obtener de esta manera un unico dataframe que contenga los delitos del 2016, 2017, 2018 y 2019."
   ]
  },
  {
   "cell_type": "code",
   "execution_count": 12,
   "metadata": {},
   "outputs": [],
   "source": [
    "delitos = pd.concat([delitos_2016, delitos_2017, delitos_2018, delitos_2019], axis=0)"
   ]
  },
  {
   "cell_type": "markdown",
   "metadata": {},
   "source": [
    "#### Luego de realizado la unión de los dataset verificamos la cantidad de filas y columnas de nuestro nuevo dataframe que denominamos \"delitos\" y visualizamos las primeras y ultimas 5 filas"
   ]
  },
  {
   "cell_type": "code",
   "execution_count": 13,
   "metadata": {},
   "outputs": [
    {
     "name": "stdout",
     "output_type": "stream",
     "text": [
      "El dataframe delitos contiene 488541 filas y 10 columnas\n"
     ]
    }
   ],
   "source": [
    "print(\"El dataframe delitos contiene \"+ str(np.shape(delitos)[0]) + \" filas y \" + str(np.shape(delitos)[1]) + \" columnas\")"
   ]
  },
  {
   "cell_type": "code",
   "execution_count": 14,
   "metadata": {},
   "outputs": [
    {
     "data": {
      "text/html": [
       "<div>\n",
       "<style scoped>\n",
       "    .dataframe tbody tr th:only-of-type {\n",
       "        vertical-align: middle;\n",
       "    }\n",
       "\n",
       "    .dataframe tbody tr th {\n",
       "        vertical-align: top;\n",
       "    }\n",
       "\n",
       "    .dataframe thead th {\n",
       "        text-align: right;\n",
       "    }\n",
       "</style>\n",
       "<table border=\"1\" class=\"dataframe\">\n",
       "  <thead>\n",
       "    <tr style=\"text-align: right;\">\n",
       "      <th></th>\n",
       "      <th>id</th>\n",
       "      <th>fecha</th>\n",
       "      <th>franja_horaria</th>\n",
       "      <th>tipo_delito</th>\n",
       "      <th>subtipo_delito</th>\n",
       "      <th>cantidad_registrada</th>\n",
       "      <th>comuna</th>\n",
       "      <th>barrio</th>\n",
       "      <th>lat</th>\n",
       "      <th>long</th>\n",
       "    </tr>\n",
       "  </thead>\n",
       "  <tbody>\n",
       "    <tr>\n",
       "      <td>0</td>\n",
       "      <td>51585</td>\n",
       "      <td>2016-01-01</td>\n",
       "      <td>13</td>\n",
       "      <td>Robo (con violencia)</td>\n",
       "      <td>NaN</td>\n",
       "      <td>1.0</td>\n",
       "      <td>9.0</td>\n",
       "      <td>Parque Avellaneda</td>\n",
       "      <td>-34.648730</td>\n",
       "      <td>-58.468536</td>\n",
       "    </tr>\n",
       "    <tr>\n",
       "      <td>1</td>\n",
       "      <td>83256</td>\n",
       "      <td>2016-01-01</td>\n",
       "      <td>22</td>\n",
       "      <td>Robo (con violencia)</td>\n",
       "      <td>NaN</td>\n",
       "      <td>1.0</td>\n",
       "      <td>14.0</td>\n",
       "      <td>Palermo</td>\n",
       "      <td>-34.576925</td>\n",
       "      <td>-58.407400</td>\n",
       "    </tr>\n",
       "    <tr>\n",
       "      <td>2</td>\n",
       "      <td>117697</td>\n",
       "      <td>2016-01-01</td>\n",
       "      <td>1</td>\n",
       "      <td>Lesiones</td>\n",
       "      <td>Siniestro Vial</td>\n",
       "      <td>1.0</td>\n",
       "      <td>4.0</td>\n",
       "      <td>Parque Patricios</td>\n",
       "      <td>-34.645197</td>\n",
       "      <td>-58.401099</td>\n",
       "    </tr>\n",
       "    <tr>\n",
       "      <td>3</td>\n",
       "      <td>43088</td>\n",
       "      <td>2016-01-01</td>\n",
       "      <td>19</td>\n",
       "      <td>Hurto (sin violencia)</td>\n",
       "      <td>NaN</td>\n",
       "      <td>1.0</td>\n",
       "      <td>9.0</td>\n",
       "      <td>Parque Avellaneda</td>\n",
       "      <td>-34.655760</td>\n",
       "      <td>-58.478681</td>\n",
       "    </tr>\n",
       "    <tr>\n",
       "      <td>4</td>\n",
       "      <td>68588</td>\n",
       "      <td>2016-01-01</td>\n",
       "      <td>4</td>\n",
       "      <td>Robo (con violencia)</td>\n",
       "      <td>Robo Automotor</td>\n",
       "      <td>1.0</td>\n",
       "      <td>6.0</td>\n",
       "      <td>Caballito</td>\n",
       "      <td>-34.624128</td>\n",
       "      <td>-58.436826</td>\n",
       "    </tr>\n",
       "  </tbody>\n",
       "</table>\n",
       "</div>"
      ],
      "text/plain": [
       "       id       fecha franja_horaria            tipo_delito  subtipo_delito  \\\n",
       "0   51585  2016-01-01             13   Robo (con violencia)             NaN   \n",
       "1   83256  2016-01-01             22   Robo (con violencia)             NaN   \n",
       "2  117697  2016-01-01              1               Lesiones  Siniestro Vial   \n",
       "3   43088  2016-01-01             19  Hurto (sin violencia)             NaN   \n",
       "4   68588  2016-01-01              4   Robo (con violencia)  Robo Automotor   \n",
       "\n",
       "   cantidad_registrada  comuna             barrio        lat       long  \n",
       "0                  1.0     9.0  Parque Avellaneda -34.648730 -58.468536  \n",
       "1                  1.0    14.0            Palermo -34.576925 -58.407400  \n",
       "2                  1.0     4.0   Parque Patricios -34.645197 -58.401099  \n",
       "3                  1.0     9.0  Parque Avellaneda -34.655760 -58.478681  \n",
       "4                  1.0     6.0          Caballito -34.624128 -58.436826  "
      ]
     },
     "execution_count": 14,
     "metadata": {},
     "output_type": "execute_result"
    }
   ],
   "source": [
    "delitos.head()"
   ]
  },
  {
   "cell_type": "code",
   "execution_count": 15,
   "metadata": {},
   "outputs": [
    {
     "data": {
      "text/html": [
       "<div>\n",
       "<style scoped>\n",
       "    .dataframe tbody tr th:only-of-type {\n",
       "        vertical-align: middle;\n",
       "    }\n",
       "\n",
       "    .dataframe tbody tr th {\n",
       "        vertical-align: top;\n",
       "    }\n",
       "\n",
       "    .dataframe thead th {\n",
       "        text-align: right;\n",
       "    }\n",
       "</style>\n",
       "<table border=\"1\" class=\"dataframe\">\n",
       "  <thead>\n",
       "    <tr style=\"text-align: right;\">\n",
       "      <th></th>\n",
       "      <th>id</th>\n",
       "      <th>fecha</th>\n",
       "      <th>franja_horaria</th>\n",
       "      <th>tipo_delito</th>\n",
       "      <th>subtipo_delito</th>\n",
       "      <th>cantidad_registrada</th>\n",
       "      <th>comuna</th>\n",
       "      <th>barrio</th>\n",
       "      <th>lat</th>\n",
       "      <th>long</th>\n",
       "    </tr>\n",
       "  </thead>\n",
       "  <tbody>\n",
       "    <tr>\n",
       "      <td>117656</td>\n",
       "      <td>486770</td>\n",
       "      <td>2019-12-31</td>\n",
       "      <td>18</td>\n",
       "      <td>Robo (con violencia)</td>\n",
       "      <td>Robo Automotor</td>\n",
       "      <td>1.0</td>\n",
       "      <td>8.0</td>\n",
       "      <td>Villa Riachuelo</td>\n",
       "      <td>-34.692347</td>\n",
       "      <td>-58.472299</td>\n",
       "    </tr>\n",
       "    <tr>\n",
       "      <td>117657</td>\n",
       "      <td>486678</td>\n",
       "      <td>2019-12-31</td>\n",
       "      <td>4</td>\n",
       "      <td>Robo (con violencia)</td>\n",
       "      <td>Robo Automotor</td>\n",
       "      <td>1.0</td>\n",
       "      <td>5.0</td>\n",
       "      <td>Boedo</td>\n",
       "      <td>-34.626424</td>\n",
       "      <td>-58.422846</td>\n",
       "    </tr>\n",
       "    <tr>\n",
       "      <td>117658</td>\n",
       "      <td>486668</td>\n",
       "      <td>2019-12-31</td>\n",
       "      <td>1</td>\n",
       "      <td>Robo (con violencia)</td>\n",
       "      <td>Robo Automotor</td>\n",
       "      <td>1.0</td>\n",
       "      <td>1.0</td>\n",
       "      <td>Monserrat</td>\n",
       "      <td>-34.615892</td>\n",
       "      <td>-58.370573</td>\n",
       "    </tr>\n",
       "    <tr>\n",
       "      <td>117659</td>\n",
       "      <td>486750</td>\n",
       "      <td>2019-12-31</td>\n",
       "      <td>14</td>\n",
       "      <td>Robo (con violencia)</td>\n",
       "      <td>Robo Automotor</td>\n",
       "      <td>1.0</td>\n",
       "      <td>15.0</td>\n",
       "      <td>Villa Crespo</td>\n",
       "      <td>-34.602577</td>\n",
       "      <td>-58.433145</td>\n",
       "    </tr>\n",
       "    <tr>\n",
       "      <td>117660</td>\n",
       "      <td>486683</td>\n",
       "      <td>2019-12-31</td>\n",
       "      <td>7</td>\n",
       "      <td>Robo (con violencia)</td>\n",
       "      <td>Robo Automotor</td>\n",
       "      <td>1.0</td>\n",
       "      <td>8.0</td>\n",
       "      <td>Villa Lugano</td>\n",
       "      <td>-34.674789</td>\n",
       "      <td>-58.466394</td>\n",
       "    </tr>\n",
       "  </tbody>\n",
       "</table>\n",
       "</div>"
      ],
      "text/plain": [
       "            id       fecha franja_horaria           tipo_delito  \\\n",
       "117656  486770  2019-12-31             18  Robo (con violencia)   \n",
       "117657  486678  2019-12-31              4  Robo (con violencia)   \n",
       "117658  486668  2019-12-31              1  Robo (con violencia)   \n",
       "117659  486750  2019-12-31             14  Robo (con violencia)   \n",
       "117660  486683  2019-12-31              7  Robo (con violencia)   \n",
       "\n",
       "        subtipo_delito  cantidad_registrada  comuna           barrio  \\\n",
       "117656  Robo Automotor                  1.0     8.0  Villa Riachuelo   \n",
       "117657  Robo Automotor                  1.0     5.0            Boedo   \n",
       "117658  Robo Automotor                  1.0     1.0        Monserrat   \n",
       "117659  Robo Automotor                  1.0    15.0     Villa Crespo   \n",
       "117660  Robo Automotor                  1.0     8.0     Villa Lugano   \n",
       "\n",
       "              lat       long  \n",
       "117656 -34.692347 -58.472299  \n",
       "117657 -34.626424 -58.422846  \n",
       "117658 -34.615892 -58.370573  \n",
       "117659 -34.602577 -58.433145  \n",
       "117660 -34.674789 -58.466394  "
      ]
     },
     "execution_count": 15,
     "metadata": {},
     "output_type": "execute_result"
    }
   ],
   "source": [
    "delitos.tail()"
   ]
  },
  {
   "cell_type": "markdown",
   "metadata": {},
   "source": [
    "#### Ahora nos dispondremos a revisar aquellos valores faltantes para cada columna"
   ]
  },
  {
   "cell_type": "code",
   "execution_count": 14,
   "metadata": {},
   "outputs": [
    {
     "data": {
      "text/plain": [
       "subtipo_delito         419364\n",
       "long                     8364\n",
       "lat                      8364\n",
       "barrio                   8364\n",
       "comuna                   8364\n",
       "cantidad_registrada         0\n",
       "tipo_delito                 0\n",
       "franja_horaria              0\n",
       "fecha                       0\n",
       "id                          0\n",
       "dtype: int64"
      ]
     },
     "execution_count": 14,
     "metadata": {},
     "output_type": "execute_result"
    }
   ],
   "source": [
    "col_nulls = delitos.isnull().sum().sort_values(ascending=False)\n",
    "col_nulls"
   ]
  },
  {
   "cell_type": "markdown",
   "metadata": {},
   "source": [
    "### Transformación de nuestro datadrame\n",
    "#### Antes de comenzar con el análisis y visualización del dataframe realizaremos algunos cambios a fin de eliminar aquellas columnas que no iremos a utilizar e incorporaremos aquellas que nos permitiran reducir el ruido. "
   ]
  },
  {
   "cell_type": "code",
   "execution_count": 15,
   "metadata": {},
   "outputs": [],
   "source": [
    "delitos= delitos.drop(['id'], axis=1)"
   ]
  },
  {
   "cell_type": "markdown",
   "metadata": {},
   "source": [
    "#### Luego de eliminar la columna consultamos las primeras filas de nuestro dataframe"
   ]
  },
  {
   "cell_type": "code",
   "execution_count": 16,
   "metadata": {},
   "outputs": [
    {
     "data": {
      "text/html": [
       "<div>\n",
       "<style scoped>\n",
       "    .dataframe tbody tr th:only-of-type {\n",
       "        vertical-align: middle;\n",
       "    }\n",
       "\n",
       "    .dataframe tbody tr th {\n",
       "        vertical-align: top;\n",
       "    }\n",
       "\n",
       "    .dataframe thead th {\n",
       "        text-align: right;\n",
       "    }\n",
       "</style>\n",
       "<table border=\"1\" class=\"dataframe\">\n",
       "  <thead>\n",
       "    <tr style=\"text-align: right;\">\n",
       "      <th></th>\n",
       "      <th>fecha</th>\n",
       "      <th>franja_horaria</th>\n",
       "      <th>tipo_delito</th>\n",
       "      <th>subtipo_delito</th>\n",
       "      <th>cantidad_registrada</th>\n",
       "      <th>comuna</th>\n",
       "      <th>barrio</th>\n",
       "      <th>lat</th>\n",
       "      <th>long</th>\n",
       "    </tr>\n",
       "  </thead>\n",
       "  <tbody>\n",
       "    <tr>\n",
       "      <th>0</th>\n",
       "      <td>2016-01-01</td>\n",
       "      <td>13</td>\n",
       "      <td>Robo (con violencia)</td>\n",
       "      <td>NaN</td>\n",
       "      <td>1.0</td>\n",
       "      <td>9.0</td>\n",
       "      <td>Parque Avellaneda</td>\n",
       "      <td>-34.648730</td>\n",
       "      <td>-58.468536</td>\n",
       "    </tr>\n",
       "    <tr>\n",
       "      <th>1</th>\n",
       "      <td>2016-01-01</td>\n",
       "      <td>22</td>\n",
       "      <td>Robo (con violencia)</td>\n",
       "      <td>NaN</td>\n",
       "      <td>1.0</td>\n",
       "      <td>14.0</td>\n",
       "      <td>Palermo</td>\n",
       "      <td>-34.576925</td>\n",
       "      <td>-58.407400</td>\n",
       "    </tr>\n",
       "    <tr>\n",
       "      <th>2</th>\n",
       "      <td>2016-01-01</td>\n",
       "      <td>1</td>\n",
       "      <td>Lesiones</td>\n",
       "      <td>Siniestro Vial</td>\n",
       "      <td>1.0</td>\n",
       "      <td>4.0</td>\n",
       "      <td>Parque Patricios</td>\n",
       "      <td>-34.645197</td>\n",
       "      <td>-58.401099</td>\n",
       "    </tr>\n",
       "    <tr>\n",
       "      <th>3</th>\n",
       "      <td>2016-01-01</td>\n",
       "      <td>19</td>\n",
       "      <td>Hurto (sin violencia)</td>\n",
       "      <td>NaN</td>\n",
       "      <td>1.0</td>\n",
       "      <td>9.0</td>\n",
       "      <td>Parque Avellaneda</td>\n",
       "      <td>-34.655760</td>\n",
       "      <td>-58.478681</td>\n",
       "    </tr>\n",
       "    <tr>\n",
       "      <th>4</th>\n",
       "      <td>2016-01-01</td>\n",
       "      <td>4</td>\n",
       "      <td>Robo (con violencia)</td>\n",
       "      <td>Robo Automotor</td>\n",
       "      <td>1.0</td>\n",
       "      <td>6.0</td>\n",
       "      <td>Caballito</td>\n",
       "      <td>-34.624128</td>\n",
       "      <td>-58.436826</td>\n",
       "    </tr>\n",
       "  </tbody>\n",
       "</table>\n",
       "</div>"
      ],
      "text/plain": [
       "        fecha franja_horaria            tipo_delito  subtipo_delito  \\\n",
       "0  2016-01-01             13   Robo (con violencia)             NaN   \n",
       "1  2016-01-01             22   Robo (con violencia)             NaN   \n",
       "2  2016-01-01              1               Lesiones  Siniestro Vial   \n",
       "3  2016-01-01             19  Hurto (sin violencia)             NaN   \n",
       "4  2016-01-01              4   Robo (con violencia)  Robo Automotor   \n",
       "\n",
       "   cantidad_registrada  comuna             barrio        lat       long  \n",
       "0                  1.0     9.0  Parque Avellaneda -34.648730 -58.468536  \n",
       "1                  1.0    14.0            Palermo -34.576925 -58.407400  \n",
       "2                  1.0     4.0   Parque Patricios -34.645197 -58.401099  \n",
       "3                  1.0     9.0  Parque Avellaneda -34.655760 -58.478681  \n",
       "4                  1.0     6.0          Caballito -34.624128 -58.436826  "
      ]
     },
     "execution_count": 16,
     "metadata": {},
     "output_type": "execute_result"
    }
   ],
   "source": [
    "delitos.head()"
   ]
  },
  {
   "cell_type": "markdown",
   "metadata": {},
   "source": [
    "#### Creamos la columna \"cantidad_delitos\" con los datos, en formato de números enteros, de la columna \"cantidad_registrada\""
   ]
  },
  {
   "cell_type": "code",
   "execution_count": 17,
   "metadata": {},
   "outputs": [],
   "source": [
    "delitos['cantidad_delitos'] = delitos['cantidad_registrada'].astype(int)"
   ]
  },
  {
   "cell_type": "markdown",
   "metadata": {},
   "source": [
    "#### También agregamos las columnas de año, mes, día, periodo y día de la semana"
   ]
  },
  {
   "cell_type": "code",
   "execution_count": 18,
   "metadata": {},
   "outputs": [],
   "source": [
    "delitos['anio']= delitos['fecha'].str[:4]\n",
    "delitos['mes']= delitos['fecha'].str[5:7]\n",
    "delitos['dia']= delitos['fecha'].str[8:10]\n",
    "delitos['periodo']= delitos['anio']+delitos['mes']\n",
    "\n",
    "delitos['fecha'] = pd.to_datetime(delitos['fecha'])\n",
    "delitos['dia_semana'] = delitos['fecha'].dt.day_name()"
   ]
  },
  {
   "cell_type": "markdown",
   "metadata": {},
   "source": [
    "#### Por ultimo normalizamos la columna de barrio, para visualizar los resultados sin acentos y en mayúscula"
   ]
  },
  {
   "cell_type": "code",
   "execution_count": 19,
   "metadata": {},
   "outputs": [],
   "source": [
    "delitos['barrio2']= delitos['barrio'].str.normalize('NFKD').str.encode('ascii', errors='ignore').str.decode('utf-8')\n",
    "delitos['barrio2']= delitos['barrio2'].str.upper()"
   ]
  },
  {
   "cell_type": "markdown",
   "metadata": {},
   "source": [
    "#### Visualizamos nuestro dataframe luego de los cambios que hicimos"
   ]
  },
  {
   "cell_type": "code",
   "execution_count": 22,
   "metadata": {},
   "outputs": [
    {
     "data": {
      "text/html": [
       "<div>\n",
       "<style scoped>\n",
       "    .dataframe tbody tr th:only-of-type {\n",
       "        vertical-align: middle;\n",
       "    }\n",
       "\n",
       "    .dataframe tbody tr th {\n",
       "        vertical-align: top;\n",
       "    }\n",
       "\n",
       "    .dataframe thead th {\n",
       "        text-align: right;\n",
       "    }\n",
       "</style>\n",
       "<table border=\"1\" class=\"dataframe\">\n",
       "  <thead>\n",
       "    <tr style=\"text-align: right;\">\n",
       "      <th></th>\n",
       "      <th>fecha</th>\n",
       "      <th>franja_horaria</th>\n",
       "      <th>tipo_delito</th>\n",
       "      <th>subtipo_delito</th>\n",
       "      <th>cantidad_registrada</th>\n",
       "      <th>comuna</th>\n",
       "      <th>barrio</th>\n",
       "      <th>lat</th>\n",
       "      <th>long</th>\n",
       "      <th>cantidad_delitos</th>\n",
       "      <th>anio</th>\n",
       "      <th>mes</th>\n",
       "      <th>dia</th>\n",
       "      <th>periodo</th>\n",
       "      <th>dia_semana</th>\n",
       "      <th>barrio2</th>\n",
       "    </tr>\n",
       "  </thead>\n",
       "  <tbody>\n",
       "    <tr>\n",
       "      <td>0</td>\n",
       "      <td>2016-01-01</td>\n",
       "      <td>13</td>\n",
       "      <td>Robo (con violencia)</td>\n",
       "      <td>NaN</td>\n",
       "      <td>1.0</td>\n",
       "      <td>9.0</td>\n",
       "      <td>Parque Avellaneda</td>\n",
       "      <td>-34.648730</td>\n",
       "      <td>-58.468536</td>\n",
       "      <td>1</td>\n",
       "      <td>2016</td>\n",
       "      <td>01</td>\n",
       "      <td>01</td>\n",
       "      <td>201601</td>\n",
       "      <td>Friday</td>\n",
       "      <td>PARQUE AVELLANEDA</td>\n",
       "    </tr>\n",
       "    <tr>\n",
       "      <td>1</td>\n",
       "      <td>2016-01-01</td>\n",
       "      <td>22</td>\n",
       "      <td>Robo (con violencia)</td>\n",
       "      <td>NaN</td>\n",
       "      <td>1.0</td>\n",
       "      <td>14.0</td>\n",
       "      <td>Palermo</td>\n",
       "      <td>-34.576925</td>\n",
       "      <td>-58.407400</td>\n",
       "      <td>1</td>\n",
       "      <td>2016</td>\n",
       "      <td>01</td>\n",
       "      <td>01</td>\n",
       "      <td>201601</td>\n",
       "      <td>Friday</td>\n",
       "      <td>PALERMO</td>\n",
       "    </tr>\n",
       "    <tr>\n",
       "      <td>2</td>\n",
       "      <td>2016-01-01</td>\n",
       "      <td>1</td>\n",
       "      <td>Lesiones</td>\n",
       "      <td>Siniestro Vial</td>\n",
       "      <td>1.0</td>\n",
       "      <td>4.0</td>\n",
       "      <td>Parque Patricios</td>\n",
       "      <td>-34.645197</td>\n",
       "      <td>-58.401099</td>\n",
       "      <td>1</td>\n",
       "      <td>2016</td>\n",
       "      <td>01</td>\n",
       "      <td>01</td>\n",
       "      <td>201601</td>\n",
       "      <td>Friday</td>\n",
       "      <td>PARQUE PATRICIOS</td>\n",
       "    </tr>\n",
       "    <tr>\n",
       "      <td>3</td>\n",
       "      <td>2016-01-01</td>\n",
       "      <td>19</td>\n",
       "      <td>Hurto (sin violencia)</td>\n",
       "      <td>NaN</td>\n",
       "      <td>1.0</td>\n",
       "      <td>9.0</td>\n",
       "      <td>Parque Avellaneda</td>\n",
       "      <td>-34.655760</td>\n",
       "      <td>-58.478681</td>\n",
       "      <td>1</td>\n",
       "      <td>2016</td>\n",
       "      <td>01</td>\n",
       "      <td>01</td>\n",
       "      <td>201601</td>\n",
       "      <td>Friday</td>\n",
       "      <td>PARQUE AVELLANEDA</td>\n",
       "    </tr>\n",
       "    <tr>\n",
       "      <td>4</td>\n",
       "      <td>2016-01-01</td>\n",
       "      <td>4</td>\n",
       "      <td>Robo (con violencia)</td>\n",
       "      <td>Robo Automotor</td>\n",
       "      <td>1.0</td>\n",
       "      <td>6.0</td>\n",
       "      <td>Caballito</td>\n",
       "      <td>-34.624128</td>\n",
       "      <td>-58.436826</td>\n",
       "      <td>1</td>\n",
       "      <td>2016</td>\n",
       "      <td>01</td>\n",
       "      <td>01</td>\n",
       "      <td>201601</td>\n",
       "      <td>Friday</td>\n",
       "      <td>CABALLITO</td>\n",
       "    </tr>\n",
       "  </tbody>\n",
       "</table>\n",
       "</div>"
      ],
      "text/plain": [
       "       fecha franja_horaria            tipo_delito  subtipo_delito  \\\n",
       "0 2016-01-01             13   Robo (con violencia)             NaN   \n",
       "1 2016-01-01             22   Robo (con violencia)             NaN   \n",
       "2 2016-01-01              1               Lesiones  Siniestro Vial   \n",
       "3 2016-01-01             19  Hurto (sin violencia)             NaN   \n",
       "4 2016-01-01              4   Robo (con violencia)  Robo Automotor   \n",
       "\n",
       "   cantidad_registrada  comuna             barrio        lat       long  \\\n",
       "0                  1.0     9.0  Parque Avellaneda -34.648730 -58.468536   \n",
       "1                  1.0    14.0            Palermo -34.576925 -58.407400   \n",
       "2                  1.0     4.0   Parque Patricios -34.645197 -58.401099   \n",
       "3                  1.0     9.0  Parque Avellaneda -34.655760 -58.478681   \n",
       "4                  1.0     6.0          Caballito -34.624128 -58.436826   \n",
       "\n",
       "   cantidad_delitos  anio mes dia periodo dia_semana            barrio2  \n",
       "0                 1  2016  01  01  201601     Friday  PARQUE AVELLANEDA  \n",
       "1                 1  2016  01  01  201601     Friday            PALERMO  \n",
       "2                 1  2016  01  01  201601     Friday   PARQUE PATRICIOS  \n",
       "3                 1  2016  01  01  201601     Friday  PARQUE AVELLANEDA  \n",
       "4                 1  2016  01  01  201601     Friday          CABALLITO  "
      ]
     },
     "execution_count": 22,
     "metadata": {},
     "output_type": "execute_result"
    }
   ],
   "source": [
    "delitos.head()"
   ]
  },
  {
   "cell_type": "markdown",
   "metadata": {},
   "source": [
    "### Análisis y visualización"
   ]
  },
  {
   "cell_type": "code",
   "execution_count": 20,
   "metadata": {},
   "outputs": [
    {
     "data": {
      "image/png": "[encoded data removed]",
      "text/plain": [
       "<Figure size 576x216 with 1 Axes>"
      ]
     },
     "metadata": {
      "needs_background": "light"
     },
     "output_type": "display_data"
    }
   ],
   "source": [
    "### Realizamos una pivot table de delitos según tipo\n",
    "delitos_pivot_tipo = pd.pivot_table(delitos,values = 'cantidad_delitos', index = delitos.tipo_delito.values, aggfunc = np.sum)\n",
    "delitos_pivot_tipo\n",
    "\n",
    "# Realizamos un gráfico de barras para visualizar la cantidad de delitos segun tipo\n",
    "sns.set_context(\"talk\")\n",
    "plt.figure(figsize=(8,3))\n",
    "sns.barplot(x=delitos_pivot_tipo.index,y=\"cantidad_delitos\", data=delitos_pivot_tipo)\n",
    "plt.xticks(rotation=0, size = 13)\n",
    "plt.title(\"Cantidad de Delitos según Tipo 2016-2019\")\n",
    "plt.xlabel('Tipo de delito', size = 15)\n",
    "plt.ylabel('Delitos', size = 15)\n",
    "plt.show()"
   ]
  },
  {
   "cell_type": "markdown",
   "metadata": {},
   "source": [
    "##### Análisis de resultados de gráfico\n",
    "\n",
    "En función de los resultados obtenidos encontramos que la mayor parte de los delitos ocurridos durante el período analizado fueron robos y hurtos, mientras que las lesiones (provenientes por lo general de siniestros viales) y homicidos tienen menor relevancia.\n",
    "Para identificar la cantidad de homicidios incorporamos la siguiente tabla con los cruces de tipos de delitos y subtipos. "
   ]
  },
  {
   "cell_type": "code",
   "execution_count": 22,
   "metadata": {},
   "outputs": [
    {
     "data": {
      "text/html": [
       "<div>\n",
       "<style scoped>\n",
       "    .dataframe tbody tr th:only-of-type {\n",
       "        vertical-align: middle;\n",
       "    }\n",
       "\n",
       "    .dataframe tbody tr th {\n",
       "        vertical-align: top;\n",
       "    }\n",
       "\n",
       "    .dataframe thead th {\n",
       "        text-align: right;\n",
       "    }\n",
       "</style>\n",
       "<table border=\"1\" class=\"dataframe\">\n",
       "  <thead>\n",
       "    <tr style=\"text-align: right;\">\n",
       "      <th></th>\n",
       "      <th>tipo_delito</th>\n",
       "      <th>subtipo_delito</th>\n",
       "      <th>cantidad_registrada</th>\n",
       "    </tr>\n",
       "  </thead>\n",
       "  <tbody>\n",
       "    <tr>\n",
       "      <th>0</th>\n",
       "      <td>Homicidio</td>\n",
       "      <td>Doloso</td>\n",
       "      <td>509</td>\n",
       "    </tr>\n",
       "    <tr>\n",
       "      <th>1</th>\n",
       "      <td>Homicidio</td>\n",
       "      <td>Siniestro Vial</td>\n",
       "      <td>509</td>\n",
       "    </tr>\n",
       "    <tr>\n",
       "      <th>2</th>\n",
       "      <td>Hurto (sin violencia)</td>\n",
       "      <td>Hurto Automotor</td>\n",
       "      <td>22718</td>\n",
       "    </tr>\n",
       "    <tr>\n",
       "      <th>3</th>\n",
       "      <td>Hurto (sin violencia)</td>\n",
       "      <td>S/D</td>\n",
       "      <td>157155</td>\n",
       "    </tr>\n",
       "    <tr>\n",
       "      <th>4</th>\n",
       "      <td>Lesiones</td>\n",
       "      <td>Siniestro Vial</td>\n",
       "      <td>34210</td>\n",
       "    </tr>\n",
       "    <tr>\n",
       "      <th>5</th>\n",
       "      <td>Robo (con violencia)</td>\n",
       "      <td>Robo Automotor</td>\n",
       "      <td>11231</td>\n",
       "    </tr>\n",
       "    <tr>\n",
       "      <th>6</th>\n",
       "      <td>Robo (con violencia)</td>\n",
       "      <td>S/D</td>\n",
       "      <td>262209</td>\n",
       "    </tr>\n",
       "  </tbody>\n",
       "</table>\n",
       "</div>"
      ],
      "text/plain": [
       "             tipo_delito   subtipo_delito  cantidad_registrada\n",
       "0              Homicidio           Doloso                  509\n",
       "1              Homicidio   Siniestro Vial                  509\n",
       "2  Hurto (sin violencia)  Hurto Automotor                22718\n",
       "3  Hurto (sin violencia)              S/D               157155\n",
       "4               Lesiones   Siniestro Vial                34210\n",
       "5   Robo (con violencia)   Robo Automotor                11231\n",
       "6   Robo (con violencia)              S/D               262209"
      ]
     },
     "execution_count": 22,
     "metadata": {},
     "output_type": "execute_result"
    }
   ],
   "source": [
    "delitos['subtipo_delito'] = delitos['subtipo_delito'].fillna('S/D')\n",
    "delitos.groupby(['tipo_delito','subtipo_delito'], as_index=False).agg({\"cantidad_registrada\": \"count\"})\n"
   ]
  },
  {
   "cell_type": "code",
   "execution_count": 24,
   "metadata": {},
   "outputs": [
    {
     "data": {
      "image/png": "[encoded data removed]",
      "text/plain": [
       "<Figure size 720x216 with 1 Axes>"
      ]
     },
     "metadata": {
      "needs_background": "light"
     },
     "output_type": "display_data"
    }
   ],
   "source": [
    "# Realizamos una pivot table de delitos según subtipo\n",
    "delitos_pivot_subtipo = pd.pivot_table(delitos,values = 'cantidad_delitos', index = delitos.subtipo_delito.values, aggfunc = np.sum)\n",
    "delitos_pivot_subtipo\n",
    "\n",
    "# Realizamos un gráfico de barras para visualizar la cantidad de delitos segun subtipo\n",
    "sns.set_context(\"talk\")\n",
    "plt.figure(figsize=(10,3))\n",
    "sns.barplot(x=delitos_pivot_subtipo.index,y=\"cantidad_delitos\", data=delitos_pivot_subtipo, palette= \"Paired\")\n",
    "plt.xticks(rotation=0, size = 13)\n",
    "plt.title(\"Cantidad de Delitos según Sub-tipo 2016-2019\")\n",
    "plt.xlabel('Subtipo de delito', size = 15)\n",
    "plt.ylabel('Delitos', size = 15)\n",
    "plt.show()"
   ]
  },
  {
   "cell_type": "code",
   "execution_count": 25,
   "metadata": {},
   "outputs": [
    {
     "data": {
      "text/html": [
       "<div>\n",
       "<style scoped>\n",
       "    .dataframe tbody tr th:only-of-type {\n",
       "        vertical-align: middle;\n",
       "    }\n",
       "\n",
       "    .dataframe tbody tr th {\n",
       "        vertical-align: top;\n",
       "    }\n",
       "\n",
       "    .dataframe thead th {\n",
       "        text-align: right;\n",
       "    }\n",
       "</style>\n",
       "<table border=\"1\" class=\"dataframe\">\n",
       "  <thead>\n",
       "    <tr style=\"text-align: right;\">\n",
       "      <th></th>\n",
       "      <th>cantidad_delitos</th>\n",
       "    </tr>\n",
       "  </thead>\n",
       "  <tbody>\n",
       "    <tr>\n",
       "      <td>1.0</td>\n",
       "      <td>69208</td>\n",
       "    </tr>\n",
       "    <tr>\n",
       "      <td>3.0</td>\n",
       "      <td>42126</td>\n",
       "    </tr>\n",
       "    <tr>\n",
       "      <td>4.0</td>\n",
       "      <td>39462</td>\n",
       "    </tr>\n",
       "    <tr>\n",
       "      <td>14.0</td>\n",
       "      <td>38338</td>\n",
       "    </tr>\n",
       "    <tr>\n",
       "      <td>7.0</td>\n",
       "      <td>35157</td>\n",
       "    </tr>\n",
       "  </tbody>\n",
       "</table>\n",
       "</div>"
      ],
      "text/plain": [
       "      cantidad_delitos\n",
       "1.0              69208\n",
       "3.0              42126\n",
       "4.0              39462\n",
       "14.0             38338\n",
       "7.0              35157"
      ]
     },
     "execution_count": 25,
     "metadata": {},
     "output_type": "execute_result"
    }
   ],
   "source": [
    "# Realizamos una pivot table para visualizar cuáles fueron las comunas con mayor cantidad de delitos\n",
    "delitos_pivot_comuna = pd.pivot_table(delitos,values = 'cantidad_delitos', index = delitos.comuna.values, aggfunc = np.sum)\n",
    "delitos_pivot_comuna = delitos_pivot_comuna.sort_values('cantidad_delitos', ascending=False)\n",
    "delitos_pivot_comuna.head(5)"
   ]
  },
  {
   "cell_type": "code",
   "execution_count": 26,
   "metadata": {},
   "outputs": [
    {
     "data": {
      "image/png": "[encoded data removed]",
      "text/plain": [
       "<Figure size 432x288 with 1 Axes>"
      ]
     },
     "metadata": {
      "needs_background": "light"
     },
     "output_type": "display_data"
    }
   ],
   "source": [
    "# Hacemos un boxplot para ver la distribución de los delitos en los comuna\n",
    "plt.boxplot(delitos_pivot_comuna['cantidad_delitos'])\n",
    "plt.title(\"Boxplot de Cantidad de Delitos\")\n",
    "plt.show()"
   ]
  },
  {
   "cell_type": "code",
   "execution_count": 27,
   "metadata": {},
   "outputs": [
    {
     "data": {
      "text/plain": [
       "count       15.000000\n",
       "mean     32014.200000\n",
       "std      12138.965025\n",
       "min      22510.000000\n",
       "25%      24244.000000\n",
       "50%      28335.000000\n",
       "75%      36747.500000\n",
       "max      69208.000000\n",
       "Name: cantidad_delitos, dtype: float64"
      ]
     },
     "execution_count": 27,
     "metadata": {},
     "output_type": "execute_result"
    }
   ],
   "source": [
    "# Vemos los estadísticos descriptivos de 'cantidad_delitos'\n",
    "delitos_pivot_comuna['cantidad_delitos'].describe()"
   ]
  },
  {
   "cell_type": "code",
   "execution_count": 80,
   "metadata": {},
   "outputs": [
    {
     "data": {
      "image/png": "[encoded data removed]",
      "text/plain": [
       "<Figure size 432x288 with 1 Axes>"
      ]
     },
     "metadata": {
      "needs_background": "light"
     },
     "output_type": "display_data"
    }
   ],
   "source": [
    "sns.set_context(\"talk\")\n",
    "az = sns.countplot(x=\"comuna\", data=delitos)\n",
    "plt.xlabel(\"Comuna\", size = 15)\n",
    "plt.ylabel(\"Delitos\", size = 15)\n",
    "plt.xticks(rotation=45)\n",
    "plt.title(\"Cuál fue la comuna con más delitos registrados\")\n",
    "plt.show()"
   ]
  },
  {
   "cell_type": "markdown",
   "metadata": {},
   "source": [
    "En el período analizado la comuna donde ocurrieron la mayor parte de los delitos fue la comuna 1 -compuesta por San Nicolás, Montserrat, San Telmo, Retiro, Constitución y Puerto Madero-. Entendemos que esta diferencia se explica en mayor medida por la concentración de oficinas y personas en el horario laboral en la zona centro de la Ciudad.\n",
    "La sigue la comuna 3 y 4, zonas de menor poder adquisitivo y la comuna 14, donde se encuentra Palermo, siendo la comuna más poblada. "
   ]
  },
  {
   "cell_type": "code",
   "execution_count": 29,
   "metadata": {},
   "outputs": [
    {
     "data": {
      "text/html": [
       "<div>\n",
       "<style scoped>\n",
       "    .dataframe tbody tr th:only-of-type {\n",
       "        vertical-align: middle;\n",
       "    }\n",
       "\n",
       "    .dataframe tbody tr th {\n",
       "        vertical-align: top;\n",
       "    }\n",
       "\n",
       "    .dataframe thead th {\n",
       "        text-align: right;\n",
       "    }\n",
       "</style>\n",
       "<table border=\"1\" class=\"dataframe\">\n",
       "  <thead>\n",
       "    <tr style=\"text-align: right;\">\n",
       "      <th></th>\n",
       "      <th>cantidad_delitos</th>\n",
       "    </tr>\n",
       "  </thead>\n",
       "  <tbody>\n",
       "    <tr>\n",
       "      <td>PALERMO</td>\n",
       "      <td>38338</td>\n",
       "    </tr>\n",
       "    <tr>\n",
       "      <td>BALVANERA</td>\n",
       "      <td>33749</td>\n",
       "    </tr>\n",
       "    <tr>\n",
       "      <td>FLORES</td>\n",
       "      <td>24904</td>\n",
       "    </tr>\n",
       "    <tr>\n",
       "      <td>SAN NICOLAS</td>\n",
       "      <td>23411</td>\n",
       "    </tr>\n",
       "    <tr>\n",
       "      <td>RECOLETA</td>\n",
       "      <td>22565</td>\n",
       "    </tr>\n",
       "  </tbody>\n",
       "</table>\n",
       "</div>"
      ],
      "text/plain": [
       "             cantidad_delitos\n",
       "PALERMO                 38338\n",
       "BALVANERA               33749\n",
       "FLORES                  24904\n",
       "SAN NICOLAS             23411\n",
       "RECOLETA                22565"
      ]
     },
     "execution_count": 29,
     "metadata": {},
     "output_type": "execute_result"
    }
   ],
   "source": [
    "# Realizamos una pivot table para visualizar los delitos por barrio\n",
    "delitos_pivot_barrio = pd.pivot_table(delitos,values = 'cantidad_delitos', index = delitos.barrio2.values, aggfunc = np.sum)\n",
    "delitos_pivot_barrio = delitos_pivot_barrio.sort_values('cantidad_delitos', ascending=False)\n",
    "delitos_pivot_barrio.head()"
   ]
  },
  {
   "cell_type": "code",
   "execution_count": 30,
   "metadata": {},
   "outputs": [
    {
     "data": {
      "image/png": "[encoded data removed]",
      "text/plain": [
       "<Figure size 432x288 with 1 Axes>"
      ]
     },
     "metadata": {
      "needs_background": "light"
     },
     "output_type": "display_data"
    }
   ],
   "source": [
    "# Hacemos un boxplot para ver la distribución de los delitos en los barrios\n",
    "plt.boxplot(delitos_pivot_barrio['cantidad_delitos'])\n",
    "plt.title(\"Boxplot de Cantidad de Delitos\")\n",
    "plt.show()"
   ]
  },
  {
   "cell_type": "code",
   "execution_count": 31,
   "metadata": {},
   "outputs": [
    {
     "data": {
      "text/plain": [
       "count       48.000000\n",
       "mean     10004.437500\n",
       "std       8202.662627\n",
       "min        657.000000\n",
       "25%       4697.750000\n",
       "50%       7674.500000\n",
       "75%      12677.000000\n",
       "max      38338.000000\n",
       "Name: cantidad_delitos, dtype: float64"
      ]
     },
     "execution_count": 31,
     "metadata": {},
     "output_type": "execute_result"
    }
   ],
   "source": [
    "# Vemos los estadísticos descriptivos de 'cantidad_delitos'\n",
    "delitos_pivot_barrio['cantidad_delitos'].describe()"
   ]
  },
  {
   "cell_type": "markdown",
   "metadata": {},
   "source": [
    "#### De este primer análisis que realizamos podemos ver que el promedio de delitos por barrio, en el periodo analizado, es de apróximadamente 10.000.                                                                                                                                                                                      Sin embargo, hay una alta dispersión, ya que hay barrios que presentan niveles muy altos."
   ]
  },
  {
   "cell_type": "code",
   "execution_count": 32,
   "metadata": {},
   "outputs": [
    {
     "data": {
      "image/png": "[encoded data removed]",
      "text/plain": [
       "<Figure size 720x288 with 1 Axes>"
      ]
     },
     "metadata": {
      "needs_background": "light"
     },
     "output_type": "display_data"
    }
   ],
   "source": [
    "# Ahora realizamos un gráfico de barras para visualizar cuáles son los 10 barrios con más delitos\n",
    "# top\n",
    "top_n = 10\n",
    "# Guardamos los indices de los top_n\n",
    "idx_top = delitos_pivot_barrio[0:top_n]\n",
    "\n",
    "plt.figure(figsize=(10,4))\n",
    "# Indicamos la columna 'barrio' en el orden 'idx_top'\n",
    "     \n",
    "g = sns.barplot(x=idx_top.index,y=\"cantidad_delitos\", data=idx_top,\n",
    "                  palette = \"viridis\")\n",
    "g.set_xticklabels(g.get_xticklabels(), rotation=90, ha=\"right\", size = 14)\n",
    "plt.title('Top 10: Barrios con más Delitos', size = 20)\n",
    "plt.xlabel(\"Barrio\", size = 15)\n",
    "plt.ylabel(\"Delitos\", size = 15)\n",
    "plt.show()"
   ]
  },
  {
   "cell_type": "code",
   "execution_count": 33,
   "metadata": {},
   "outputs": [
    {
     "data": {
      "image/png": "[encoded data removed]",
      "text/plain": [
       "<Figure size 720x216 with 1 Axes>"
      ]
     },
     "metadata": {
      "needs_background": "light"
     },
     "output_type": "display_data"
    }
   ],
   "source": [
    "# Ahora vemos cómo es la distribución de los delitos por horario\n",
    "\n",
    "# Primero eliminamos los registros que contienen 'S/D' en la variable 'franja_horaria'\n",
    "delitos_hs = delitos.loc[(delitos['franja_horaria'] != 'S/D')]\n",
    "\n",
    "plt.figure(figsize=(10,3))\n",
    "sns.kdeplot(delitos_hs['franja_horaria'], color= \"Blue\", shade = True)\n",
    "plt.xlabel(\"Horario\",size = 20)\n",
    "plt.ylabel(\"Frecuencia\",size = 20)\n",
    "plt.title('Distribución de Delitos por Horario',size = 20)\n",
    "plt.show()"
   ]
  },
  {
   "cell_type": "code",
   "execution_count": 34,
   "metadata": {},
   "outputs": [
    {
     "data": {
      "image/png": "[encoded data removed]",
      "text/plain": [
       "<Figure size 1080x360 with 1 Axes>"
      ]
     },
     "metadata": {
      "needs_background": "light"
     },
     "output_type": "display_data"
    }
   ],
   "source": [
    "# Ahora realizamos otro gráfico para visualizar la distribución de los delitos por día de la semana\n",
    "\n",
    "# Realizamos una pivot table de delitos según día de la semana\n",
    "delitos_pivot_diasem = pd.pivot_table(delitos,values = 'cantidad_delitos', index = delitos.dia_semana.values, aggfunc = np.sum)\n",
    "delitos_pivot_diasem = delitos_pivot_diasem.sort_values('cantidad_delitos', ascending=False)\n",
    "\n",
    "plt.figure(figsize=(15,5))\n",
    "sns.barplot(x=delitos_pivot_diasem.index,y=\"cantidad_delitos\", data=delitos_pivot_diasem, palette=\"mako\")\n",
    "plt.xticks(rotation=0, size = 12)\n",
    "plt.title(\"Cantidad de Delitos por Día de la Semana\")\n",
    "plt.xlabel('Día de la Semana', size = 15)\n",
    "plt.ylabel('Delitos', size = 15)\n",
    "plt.show()"
   ]
  },
  {
   "cell_type": "markdown",
   "metadata": {},
   "source": [
    "Vemos que los fines de semana la cantidad de delitos es menor que durante los días de semana. Esto puede deberse a que la transitabilidad en la Ciudad durante la semana es mayor."
   ]
  },
  {
   "cell_type": "code",
   "execution_count": 35,
   "metadata": {},
   "outputs": [
    {
     "data": {
      "image/png": "[encoded data removed]",
      "text/plain": [
       "<Figure size 1080x360 with 1 Axes>"
      ]
     },
     "metadata": {
      "needs_background": "light"
     },
     "output_type": "display_data"
    }
   ],
   "source": [
    "# Realizamos un gráfico de barras para visualizar los delitos por mes\n",
    "\n",
    "# Realizamos una pivot table de delitos según mes\n",
    "delitos_pivot_mes = pd.pivot_table(delitos,values = 'cantidad_delitos', index = delitos.mes.values, aggfunc = np.sum)\n",
    "delitos_pivot_mes\n",
    "\n",
    "plt.figure(figsize=(15,5))\n",
    "sns.barplot(x=delitos_pivot_mes.index,y=\"cantidad_delitos\", data=delitos_pivot_mes, color=\"darkblue\")\n",
    "plt.xticks(rotation=0, size = 12)\n",
    "plt.title(\"Cantidad de Delitos por Mes 2016-2019\")\n",
    "plt.xlabel('Mes', size = 15)\n",
    "plt.ylabel('Delitos', size = 15)\n",
    "plt.show()"
   ]
  },
  {
   "cell_type": "code",
   "execution_count": 23,
   "metadata": {},
   "outputs": [
    {
     "data": {
      "image/png": "[encoded data removed]",
      "text/plain": [
       "<Figure size 720x288 with 1 Axes>"
      ]
     },
     "metadata": {
      "needs_background": "light"
     },
     "output_type": "display_data"
    }
   ],
   "source": [
    "# Realizamos un gráfico de barras delitos según año\n",
    "\n",
    "delitos_pivot_anio = pd.pivot_table(delitos,values = 'cantidad_delitos', index = delitos.anio.values, aggfunc = np.sum)\n",
    "delitos_pivot_anio\n",
    "\n",
    "plt.figure(figsize=(10,4))\n",
    "sns.barplot(x=delitos_pivot_anio.index,y=\"cantidad_delitos\", data=delitos_pivot_anio, color=\"darkblue\")\n",
    "plt.xticks(rotation=0, size = 12)\n",
    "plt.title(\"Cantidad de Delitos por Mes 2016-2019\")\n",
    "plt.xlabel('Año', size = 15)\n",
    "plt.ylabel('Delitos', size = 15)\n",
    "plt.show()"
   ]
  },
  {
   "cell_type": "markdown",
   "metadata": {},
   "source": [
    "Tanto a lo largo de los días, semanas, meses y años encontramos que los delitos se mantienen en niveles estables, por lo que no parece ser necesario incurrir en un análisis particular de alguno de ellos. "
   ]
  },
  {
   "cell_type": "code",
   "execution_count": 37,
   "metadata": {},
   "outputs": [
    {
     "data": {
      "text/plain": [
       "<matplotlib.legend.Legend at 0x1dd3b37c948>"
      ]
     },
     "execution_count": 37,
     "metadata": {},
     "output_type": "execute_result"
    },
    {
     "data": {
      "image/png": "[encoded data removed]",
      "text/plain": [
       "<Figure size 792x288 with 1 Axes>"
      ]
     },
     "metadata": {
      "needs_background": "light"
     },
     "output_type": "display_data"
    }
   ],
   "source": [
    "# Realizamos un gráfico de barras apiladas para ver la cantidad de delitos por año según tipo\n",
    "\n",
    "delitos_pivot_anio_tipo = pd.pivot_table(delitos,values = 'cantidad_delitos', columns= \"tipo_delito\",index = delitos.anio.values, aggfunc = np.sum)\n",
    "delitos_pivot_anio_tipo\n",
    "\n",
    "ax=delitos_pivot_anio_tipo.plot.bar(stacked=True, figsize=(11,4))\n",
    "ax.legend(loc='best', labelspacing=0.1, bbox_to_anchor=(1, 0.5))"
   ]
  },
  {
   "cell_type": "markdown",
   "metadata": {},
   "source": [
    "#### Observamos, de esta manera que para todos los años, los tipos de delito más frecuentes son \"Robo (con violencia)\" y \"Hurto (sin violencia)\""
   ]
  },
  {
   "cell_type": "code",
   "execution_count": 38,
   "metadata": {},
   "outputs": [
    {
     "data": {
      "text/html": [
       "<div>\n",
       "<style scoped>\n",
       "    .dataframe tbody tr th:only-of-type {\n",
       "        vertical-align: middle;\n",
       "    }\n",
       "\n",
       "    .dataframe tbody tr th {\n",
       "        vertical-align: top;\n",
       "    }\n",
       "\n",
       "    .dataframe thead th {\n",
       "        text-align: right;\n",
       "    }\n",
       "</style>\n",
       "<table border=\"1\" class=\"dataframe\">\n",
       "  <thead>\n",
       "    <tr style=\"text-align: right;\">\n",
       "      <th></th>\n",
       "      <th>POBLACION</th>\n",
       "    </tr>\n",
       "    <tr>\n",
       "      <th>BARRIO</th>\n",
       "      <th></th>\n",
       "    </tr>\n",
       "  </thead>\n",
       "  <tbody>\n",
       "    <tr>\n",
       "      <td>AGRONOMIA</td>\n",
       "      <td>13912</td>\n",
       "    </tr>\n",
       "    <tr>\n",
       "      <td>ALMAGRO</td>\n",
       "      <td>131699</td>\n",
       "    </tr>\n",
       "    <tr>\n",
       "      <td>BALVANERA</td>\n",
       "      <td>138926</td>\n",
       "    </tr>\n",
       "    <tr>\n",
       "      <td>BARRACAS</td>\n",
       "      <td>89452</td>\n",
       "    </tr>\n",
       "    <tr>\n",
       "      <td>BELGRANO</td>\n",
       "      <td>126267</td>\n",
       "    </tr>\n",
       "  </tbody>\n",
       "</table>\n",
       "</div>"
      ],
      "text/plain": [
       "           POBLACION\n",
       "BARRIO              \n",
       "AGRONOMIA      13912\n",
       "ALMAGRO       131699\n",
       "BALVANERA     138926\n",
       "BARRACAS       89452\n",
       "BELGRANO      126267"
      ]
     },
     "execution_count": 38,
     "metadata": {},
     "output_type": "execute_result"
    }
   ],
   "source": [
    "# Importamos dataset de población por barrio\n",
    "poblacion = pd.read_csv('caba_pob_barrios_2010.csv')\n",
    "# Normalizamos para convertir la ñ en n\n",
    "poblacion['BARRIO']= poblacion['BARRIO'].str.normalize('NFKD').str.encode('ascii', errors='ignore').str.decode('utf-8')\n",
    "\n",
    "poblacion = poblacion.set_index('BARRIO')\n",
    "poblacion.head()"
   ]
  },
  {
   "cell_type": "code",
   "execution_count": 39,
   "metadata": {},
   "outputs": [
    {
     "data": {
      "text/plain": [
       "(48, 1)"
      ]
     },
     "execution_count": 39,
     "metadata": {},
     "output_type": "execute_result"
    }
   ],
   "source": [
    "np.shape(poblacion)"
   ]
  },
  {
   "cell_type": "code",
   "execution_count": 40,
   "metadata": {},
   "outputs": [
    {
     "data": {
      "text/html": [
       "<div>\n",
       "<style scoped>\n",
       "    .dataframe tbody tr th:only-of-type {\n",
       "        vertical-align: middle;\n",
       "    }\n",
       "\n",
       "    .dataframe tbody tr th {\n",
       "        vertical-align: top;\n",
       "    }\n",
       "\n",
       "    .dataframe thead th {\n",
       "        text-align: right;\n",
       "    }\n",
       "</style>\n",
       "<table border=\"1\" class=\"dataframe\">\n",
       "  <thead>\n",
       "    <tr style=\"text-align: right;\">\n",
       "      <th></th>\n",
       "      <th>POBLACION</th>\n",
       "      <th>cantidad_delitos</th>\n",
       "    </tr>\n",
       "    <tr>\n",
       "      <th>BARRIO</th>\n",
       "      <th></th>\n",
       "      <th></th>\n",
       "    </tr>\n",
       "  </thead>\n",
       "  <tbody>\n",
       "    <tr>\n",
       "      <td>AGRONOMIA</td>\n",
       "      <td>13912</td>\n",
       "      <td>1897</td>\n",
       "    </tr>\n",
       "    <tr>\n",
       "      <td>ALMAGRO</td>\n",
       "      <td>131699</td>\n",
       "      <td>19869</td>\n",
       "    </tr>\n",
       "    <tr>\n",
       "      <td>BALVANERA</td>\n",
       "      <td>138926</td>\n",
       "      <td>33749</td>\n",
       "    </tr>\n",
       "    <tr>\n",
       "      <td>BARRACAS</td>\n",
       "      <td>89452</td>\n",
       "      <td>14132</td>\n",
       "    </tr>\n",
       "    <tr>\n",
       "      <td>BELGRANO</td>\n",
       "      <td>126267</td>\n",
       "      <td>16027</td>\n",
       "    </tr>\n",
       "  </tbody>\n",
       "</table>\n",
       "</div>"
      ],
      "text/plain": [
       "           POBLACION  cantidad_delitos\n",
       "BARRIO                                \n",
       "AGRONOMIA      13912              1897\n",
       "ALMAGRO       131699             19869\n",
       "BALVANERA     138926             33749\n",
       "BARRACAS       89452             14132\n",
       "BELGRANO      126267             16027"
      ]
     },
     "execution_count": 40,
     "metadata": {},
     "output_type": "execute_result"
    }
   ],
   "source": [
    "# Hacemos el join de cantidad de delitos y población por barrio\n",
    "poblacion_delitos = poblacion.join(delitos_pivot_barrio)\n",
    "poblacion_delitos.head()"
   ]
  },
  {
   "cell_type": "code",
   "execution_count": 41,
   "metadata": {},
   "outputs": [
    {
     "data": {
      "text/html": [
       "<div>\n",
       "<style scoped>\n",
       "    .dataframe tbody tr th:only-of-type {\n",
       "        vertical-align: middle;\n",
       "    }\n",
       "\n",
       "    .dataframe tbody tr th {\n",
       "        vertical-align: top;\n",
       "    }\n",
       "\n",
       "    .dataframe thead th {\n",
       "        text-align: right;\n",
       "    }\n",
       "</style>\n",
       "<table border=\"1\" class=\"dataframe\">\n",
       "  <thead>\n",
       "    <tr style=\"text-align: right;\">\n",
       "      <th></th>\n",
       "      <th>POBLACION</th>\n",
       "      <th>cantidad_delitos</th>\n",
       "      <th>delitos/poblacion</th>\n",
       "    </tr>\n",
       "    <tr>\n",
       "      <th>BARRIO</th>\n",
       "      <th></th>\n",
       "      <th></th>\n",
       "      <th></th>\n",
       "    </tr>\n",
       "  </thead>\n",
       "  <tbody>\n",
       "    <tr>\n",
       "      <td>AGRONOMIA</td>\n",
       "      <td>13912</td>\n",
       "      <td>1897</td>\n",
       "      <td>0.136357</td>\n",
       "    </tr>\n",
       "    <tr>\n",
       "      <td>ALMAGRO</td>\n",
       "      <td>131699</td>\n",
       "      <td>19869</td>\n",
       "      <td>0.150867</td>\n",
       "    </tr>\n",
       "    <tr>\n",
       "      <td>BALVANERA</td>\n",
       "      <td>138926</td>\n",
       "      <td>33749</td>\n",
       "      <td>0.242928</td>\n",
       "    </tr>\n",
       "    <tr>\n",
       "      <td>BARRACAS</td>\n",
       "      <td>89452</td>\n",
       "      <td>14132</td>\n",
       "      <td>0.157984</td>\n",
       "    </tr>\n",
       "    <tr>\n",
       "      <td>BELGRANO</td>\n",
       "      <td>126267</td>\n",
       "      <td>16027</td>\n",
       "      <td>0.126929</td>\n",
       "    </tr>\n",
       "  </tbody>\n",
       "</table>\n",
       "</div>"
      ],
      "text/plain": [
       "           POBLACION  cantidad_delitos  delitos/poblacion\n",
       "BARRIO                                                   \n",
       "AGRONOMIA      13912              1897           0.136357\n",
       "ALMAGRO       131699             19869           0.150867\n",
       "BALVANERA     138926             33749           0.242928\n",
       "BARRACAS       89452             14132           0.157984\n",
       "BELGRANO      126267             16027           0.126929"
      ]
     },
     "execution_count": 41,
     "metadata": {},
     "output_type": "execute_result"
    }
   ],
   "source": [
    "# Agregamos una columna para ver la incidencia de delitos por barrio: delitos/población\n",
    "poblacion_delitos['delitos/poblacion']= poblacion_delitos['cantidad_delitos']/poblacion_delitos['POBLACION']\n",
    "poblacion_delitos.head()"
   ]
  },
  {
   "cell_type": "code",
   "execution_count": 42,
   "metadata": {},
   "outputs": [
    {
     "data": {
      "image/png": "[encoded data removed]",
      "text/plain": [
       "<Figure size 720x288 with 1 Axes>"
      ]
     },
     "metadata": {
      "needs_background": "light"
     },
     "output_type": "display_data"
    }
   ],
   "source": [
    "poblacion_delitos_sorted = poblacion_delitos.sort_values('delitos/poblacion', ascending=False)\n",
    "# top\n",
    "top_n = 10\n",
    "# Guardamos los indices de los top_n\n",
    "idx_top = poblacion_delitos_sorted[0:top_n]\n",
    "\n",
    "plt.figure(figsize=(10,4))\n",
    "\n",
    "     \n",
    "g = sns.barplot(x=idx_top.index,y=\"delitos/poblacion\", data=idx_top,\n",
    "                  palette = \"rocket\")\n",
    "g.set_xticklabels(g.get_xticklabels(), rotation=90, ha=\"right\", size = 14)\n",
    "plt.title('Top 10: Barrios con mayor incidencia de delitos', size = 20)\n",
    "plt.xlabel(\"Barrio\", size = 15)\n",
    "plt.ylabel(\"Delitos/Población\", size = 15)\n",
    "plt.show()"
   ]
  },
  {
   "cell_type": "code",
   "execution_count": 43,
   "metadata": {},
   "outputs": [
    {
     "data": {
      "image/png": "[encoded data removed]",
      "text/plain": [
       "<Figure size 432x288 with 1 Axes>"
      ]
     },
     "metadata": {
      "needs_background": "light"
     },
     "output_type": "display_data"
    }
   ],
   "source": [
    "# Vemos si existe una correlación entre cantidad de delitos y población\n",
    "# Visualizamos los datos en un scatterplot\n",
    "plt.scatter(poblacion_delitos['POBLACION'],poblacion_delitos['cantidad_delitos'],color=\"darkorange\")\n",
    "plt.xlabel('Delitos')\n",
    "plt.ylabel('Población')\n",
    "plt.show()"
   ]
  }
 ],
 "metadata": {
  "kernelspec": {
   "display_name": "Python 3",
   "language": "python",
   "name": "python3"
  },
  "language_info": {
   "codemirror_mode": {
    "name": "ipython",
    "version": 3
   },
   "file_extension": ".py",
   "mimetype": "text/x-python",
   "name": "python",
   "nbconvert_exporter": "python",
   "pygments_lexer": "ipython3",
   "version": "3.7.6"
  }
 },
 "nbformat": 4,
 "nbformat_minor": 4
}
